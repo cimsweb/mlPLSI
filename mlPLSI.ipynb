{
 "cells": [
  {
   "cell_type": "markdown",
   "metadata": {},
   "source": [
    "<h1>Многозначная классификация с использованием Вероятностного тематического моделирования</h1>\n",
    "<p>Аннотация. В работе рассмотрен подход к многозначной классификации текстовых документов на основе вероятностного тематического моделирования. На базе корпуса СКТМ-ру построена тематическая модель методом обучения с учителем, приведён алгоритм многозначной классификации. Описан состав программного макета, реализующего предложенный подход.</p>"
   ]
  },
  {
   "cell_type": "code",
   "execution_count": 1,
   "metadata": {
    "collapsed": true
   },
   "outputs": [],
   "source": [
    "# -*- coding: utf-8 -*-\n",
    "from sklearn.feature_extraction.text import CountVectorizer, TfidfVectorizer\n",
    "from lxml import objectify\n",
    "from pandas import DataFrame\n",
    "from datetime import datetime, date, time\n",
    "from dateutil.parser import parse\n",
    "import pandas as pd\n",
    "import numpy as np\n",
    "import sklearn as sk\n",
    "import time\n",
    "import sys\n",
    "from sklearn import metrics\n",
    "import re"
   ]
  },
  {
   "cell_type": "markdown",
   "metadata": {},
   "source": [
    "<h2>Создаем коллекцию документов для обучения модели</h2>\n",
    "<p>Category - темы документов</p>\n",
    "<p>Content - текст документов</p>\n",
    "<p>stop_words - стоп слова, которые не учитываются в тематической модели</p>\n",
    "<h3>Подключаем источник данных в формате XML</h3>"
   ]
  },
  {
   "cell_type": "code",
   "execution_count": 2,
   "metadata": {
    "collapsed": false
   },
   "outputs": [
    {
     "name": "stdout",
     "output_type": "stream",
     "text": [
      "Wall time: 587 ms\n"
     ]
    }
   ],
   "source": [
    "%%time\n",
    "#В папке TMdata лежит наш XML файл который будем читать. В итоге в Root будут распарсенные XML элементы\n",
    "path = 'TMdata/xmlWikiOrderByDate.xml'\n",
    "parsed = objectify.parse(open(path))\n",
    "root = parsed.getroot()"
   ]
  },
  {
   "cell_type": "markdown",
   "metadata": {},
   "source": [
    "<h3>Создаем Датафрейм для подсчета тем с малым количеством документов</h3>\n"
   ]
  },
  {
   "cell_type": "code",
   "execution_count": null,
   "metadata": {
    "collapsed": false
   },
   "outputs": [],
   "source": [
    "%%time\n",
    "#Последняя рабочая долгая версия \n",
    "dftime = pd.DataFrame (columns=('id', 'data', 'category', 'title'))\n",
    "skip_fieldst2 = ['text', 'userid', 'title', 'data', 'autor', 'id']\n",
    "for eltime in root.page:\n",
    "    for childt in eltime.getchildren():\n",
    "        if childt.tag in skip_fieldst2:\n",
    "            continue\n",
    "        dout=re.sub(r'(\\d+)-(\\d+)-(\\d+)', r'01-\\2-\\3', eltime.data.pyval)\n",
    "        dd=datetime.strptime(dout, '%d-%m-%Y')\n",
    "        #dd=dd.resample(\"Y\")\n",
    "        rowt = dict(zip(['id', 'data', 'category', 'title'], [eltime.id.pyval, dd, childt.pyval, eltime.title.pyval]))\n",
    "        row_st = pd.Series(rowt)\n",
    "        row_st.name=eltime.id.pyval\n",
    "        dftime = dftime.append(row_st)"
   ]
  },
  {
   "cell_type": "code",
   "execution_count": null,
   "metadata": {
    "collapsed": true
   },
   "outputs": [],
   "source": [
    "#Сохраняем датафрейм, чтобы постоянно не считать\n",
    "dftime.to_pickle('TMdata/dftime.pkl')"
   ]
  },
  {
   "cell_type": "code",
   "execution_count": 3,
   "metadata": {
    "collapsed": true
   },
   "outputs": [],
   "source": [
    "#Загрузка из датафрейма\n",
    "dftime = pd.read_pickle('TMdata/dftime.pkl')"
   ]
  },
  {
   "cell_type": "code",
   "execution_count": 4,
   "metadata": {
    "collapsed": false
   },
   "outputs": [
    {
     "data": {
      "text/html": [
       "<div>\n",
       "<table border=\"1\" class=\"dataframe\">\n",
       "  <thead>\n",
       "    <tr style=\"text-align: right;\">\n",
       "      <th></th>\n",
       "      <th>id</th>\n",
       "      <th>data</th>\n",
       "      <th>category</th>\n",
       "      <th>title</th>\n",
       "    </tr>\n",
       "  </thead>\n",
       "  <tbody>\n",
       "    <tr>\n",
       "      <th>7376</th>\n",
       "      <td>7376</td>\n",
       "      <td>2005-02-01</td>\n",
       "      <td>Барнаул</td>\n",
       "      <td>Умер Владимир Мефодьевич Башунов</td>\n",
       "    </tr>\n",
       "    <tr>\n",
       "      <th>7376</th>\n",
       "      <td>7376</td>\n",
       "      <td>2005-02-01</td>\n",
       "      <td>Алтайский край</td>\n",
       "      <td>Умер Владимир Мефодьевич Башунов</td>\n",
       "    </tr>\n",
       "    <tr>\n",
       "      <th>7376</th>\n",
       "      <td>7376</td>\n",
       "      <td>2005-02-01</td>\n",
       "      <td>Некрологи</td>\n",
       "      <td>Умер Владимир Мефодьевич Башунов</td>\n",
       "    </tr>\n",
       "    <tr>\n",
       "      <th>7376</th>\n",
       "      <td>7376</td>\n",
       "      <td>2005-02-01</td>\n",
       "      <td>Писатели</td>\n",
       "      <td>Умер Владимир Мефодьевич Башунов</td>\n",
       "    </tr>\n",
       "    <tr>\n",
       "      <th>7376</th>\n",
       "      <td>7376</td>\n",
       "      <td>2005-02-01</td>\n",
       "      <td>Россия</td>\n",
       "      <td>Умер Владимир Мефодьевич Башунов</td>\n",
       "    </tr>\n",
       "  </tbody>\n",
       "</table>\n",
       "</div>"
      ],
      "text/plain": [
       "        id       data        category                             title\n",
       "7376  7376 2005-02-01         Барнаул  Умер Владимир Мефодьевич Башунов\n",
       "7376  7376 2005-02-01  Алтайский край  Умер Владимир Мефодьевич Башунов\n",
       "7376  7376 2005-02-01       Некрологи  Умер Владимир Мефодьевич Башунов\n",
       "7376  7376 2005-02-01        Писатели  Умер Владимир Мефодьевич Башунов\n",
       "7376  7376 2005-02-01          Россия  Умер Владимир Мефодьевич Башунов"
      ]
     },
     "execution_count": 4,
     "metadata": {},
     "output_type": "execute_result"
    }
   ],
   "source": [
    "dftime.head()"
   ]
  },
  {
   "cell_type": "markdown",
   "metadata": {},
   "source": [
    "<h3>Выявляем категории в исходной коллекци к которым относится менее 50 документов</h3>"
   ]
  },
  {
   "cell_type": "code",
   "execution_count": 5,
   "metadata": {
    "collapsed": false
   },
   "outputs": [
    {
     "data": {
      "text/html": [
       "<div>\n",
       "<table border=\"1\" class=\"dataframe\">\n",
       "  <thead>\n",
       "    <tr style=\"text-align: right;\">\n",
       "      <th></th>\n",
       "      <th>id</th>\n",
       "      <th>data</th>\n",
       "      <th>category</th>\n",
       "      <th>title</th>\n",
       "    </tr>\n",
       "  </thead>\n",
       "  <tbody>\n",
       "    <tr>\n",
       "      <th>7376</th>\n",
       "      <td>7376</td>\n",
       "      <td>2005-02-01</td>\n",
       "      <td>Барнаул</td>\n",
       "      <td>Умер Владимир Мефодьевич Башунов</td>\n",
       "    </tr>\n",
       "    <tr>\n",
       "      <th>7376</th>\n",
       "      <td>7376</td>\n",
       "      <td>2005-02-01</td>\n",
       "      <td>Алтайский край</td>\n",
       "      <td>Умер Владимир Мефодьевич Башунов</td>\n",
       "    </tr>\n",
       "    <tr>\n",
       "      <th>7376</th>\n",
       "      <td>7376</td>\n",
       "      <td>2005-02-01</td>\n",
       "      <td>Писатели</td>\n",
       "      <td>Умер Владимир Мефодьевич Башунов</td>\n",
       "    </tr>\n",
       "    <tr>\n",
       "      <th>7376</th>\n",
       "      <td>7376</td>\n",
       "      <td>2005-02-01</td>\n",
       "      <td>\\n      Сегодня утром из Барнаула пришло печал...</td>\n",
       "      <td>Умер Владимир Мефодьевич Башунов</td>\n",
       "    </tr>\n",
       "    <tr>\n",
       "      <th>1349</th>\n",
       "      <td>1349</td>\n",
       "      <td>2005-11-01</td>\n",
       "      <td>ВТО</td>\n",
       "      <td>Россия удивлена заявлениями Премьер-министра У...</td>\n",
       "    </tr>\n",
       "  </tbody>\n",
       "</table>\n",
       "</div>"
      ],
      "text/plain": [
       "        id       data                                           category  \\\n",
       "7376  7376 2005-02-01                                            Барнаул   \n",
       "7376  7376 2005-02-01                                     Алтайский край   \n",
       "7376  7376 2005-02-01                                           Писатели   \n",
       "7376  7376 2005-02-01  \\n      Сегодня утром из Барнаула пришло печал...   \n",
       "1349  1349 2005-11-01                                                ВТО   \n",
       "\n",
       "                                                  title  \n",
       "7376                   Умер Владимир Мефодьевич Башунов  \n",
       "7376                   Умер Владимир Мефодьевич Башунов  \n",
       "7376                   Умер Владимир Мефодьевич Башунов  \n",
       "7376                   Умер Владимир Мефодьевич Башунов  \n",
       "1349  Россия удивлена заявлениями Премьер-министра У...  "
      ]
     },
     "execution_count": 5,
     "metadata": {},
     "output_type": "execute_result"
    }
   ],
   "source": [
    "dftimeMinusCat=dftime.groupby(['category']).filter(lambda x: x['category'].value_counts() <= 50)\n",
    "dftimeMinusCat.head()"
   ]
  },
  {
   "cell_type": "markdown",
   "metadata": {},
   "source": [
    "<h3>Выбираем категории к которым относится более 50 документов</h3>"
   ]
  },
  {
   "cell_type": "code",
   "execution_count": 6,
   "metadata": {
    "collapsed": false
   },
   "outputs": [
    {
     "data": {
      "text/html": [
       "<div>\n",
       "<table border=\"1\" class=\"dataframe\">\n",
       "  <thead>\n",
       "    <tr style=\"text-align: right;\">\n",
       "      <th></th>\n",
       "      <th>id</th>\n",
       "      <th>data</th>\n",
       "      <th>category</th>\n",
       "      <th>title</th>\n",
       "    </tr>\n",
       "  </thead>\n",
       "  <tbody>\n",
       "    <tr>\n",
       "      <th>7376</th>\n",
       "      <td>7376</td>\n",
       "      <td>2005-02-01</td>\n",
       "      <td>Некрологи</td>\n",
       "      <td>Умер Владимир Мефодьевич Башунов</td>\n",
       "    </tr>\n",
       "    <tr>\n",
       "      <th>7376</th>\n",
       "      <td>7376</td>\n",
       "      <td>2005-02-01</td>\n",
       "      <td>Россия</td>\n",
       "      <td>Умер Владимир Мефодьевич Башунов</td>\n",
       "    </tr>\n",
       "    <tr>\n",
       "      <th>1349</th>\n",
       "      <td>1349</td>\n",
       "      <td>2005-11-01</td>\n",
       "      <td>Россия</td>\n",
       "      <td>Россия удивлена заявлениями Премьер-министра У...</td>\n",
       "    </tr>\n",
       "    <tr>\n",
       "      <th>1349</th>\n",
       "      <td>1349</td>\n",
       "      <td>2005-11-01</td>\n",
       "      <td>Украина</td>\n",
       "      <td>Россия удивлена заявлениями Премьер-министра У...</td>\n",
       "    </tr>\n",
       "    <tr>\n",
       "      <th>1349</th>\n",
       "      <td>1349</td>\n",
       "      <td>2005-11-01</td>\n",
       "      <td>Политика</td>\n",
       "      <td>Россия удивлена заявлениями Премьер-министра У...</td>\n",
       "    </tr>\n",
       "  </tbody>\n",
       "</table>\n",
       "</div>"
      ],
      "text/plain": [
       "        id       data   category  \\\n",
       "7376  7376 2005-02-01  Некрологи   \n",
       "7376  7376 2005-02-01     Россия   \n",
       "1349  1349 2005-11-01     Россия   \n",
       "1349  1349 2005-11-01    Украина   \n",
       "1349  1349 2005-11-01   Политика   \n",
       "\n",
       "                                                  title  \n",
       "7376                   Умер Владимир Мефодьевич Башунов  \n",
       "7376                   Умер Владимир Мефодьевич Башунов  \n",
       "1349  Россия удивлена заявлениями Премьер-министра У...  \n",
       "1349  Россия удивлена заявлениями Премьер-министра У...  \n",
       "1349  Россия удивлена заявлениями Премьер-министра У...  "
      ]
     },
     "execution_count": 6,
     "metadata": {},
     "output_type": "execute_result"
    }
   ],
   "source": [
    "dftimeR=dftime.groupby(['category']).filter(lambda x: x['category'].value_counts() > 50)\n",
    "dftimeR.head()"
   ]
  },
  {
   "cell_type": "markdown",
   "metadata": {},
   "source": [
    "<h3>Подсчитываем уникальные значения категорий</h3>"
   ]
  },
  {
   "cell_type": "code",
   "execution_count": 7,
   "metadata": {
    "collapsed": false
   },
   "outputs": [
    {
     "name": "stdout",
     "output_type": "stream",
     "text": [
      "19284\n",
      "Wall time: 11 ms\n"
     ]
    }
   ],
   "source": [
    "%%time\n",
    "dfTimeUniqCat=pd.unique(dftime.category.ravel())\n",
    "print len(dfTimeUniqCat)"
   ]
  },
  {
   "cell_type": "code",
   "execution_count": 8,
   "metadata": {
    "collapsed": false
   },
   "outputs": [
    {
     "name": "stdout",
     "output_type": "stream",
     "text": [
      "230\n",
      "Wall time: 3 ms\n"
     ]
    }
   ],
   "source": [
    "%%time\n",
    "dfTimeUniqCatR=pd.unique(dftimeR.category.ravel())\n",
    "print len(dfTimeUniqCatR)"
   ]
  },
  {
   "cell_type": "markdown",
   "metadata": {},
   "source": [
    "<h3>Создаем Датафрейм </h3>\n",
    "<p>В категориях список категорий, при этом исключены категории менее 50 документов имеющие </p>"
   ]
  },
  {
   "cell_type": "code",
   "execution_count": null,
   "metadata": {
    "collapsed": false
   },
   "outputs": [],
   "source": [
    "%%time\n",
    "df4 = pd.DataFrame(columns=('id','content', 'data', 'category'))\n",
    "#i = 0\n",
    "dfList = dftimeMinusCat['category'].tolist()\n",
    "skip_fields4 = ['category']\n",
    "for el4 in root.page:\n",
    "    el_cat=[]\n",
    "    for child4 in el4.getchildren():\n",
    "        if child4.tag in skip_fields4:\n",
    "            if child4.pyval not in dfList:\n",
    "                el_cat.append(child4.pyval)\n",
    "    if not el_cat:\n",
    "        #print \"List Empty\"\n",
    "        continue\n",
    "    dout=re.sub(r'(\\d+)-(\\d+)-(\\d+)', r'01-\\2-\\3', el4.data.pyval)\n",
    "    dd=datetime.strptime(dout, '%d-%m-%Y')\n",
    "    el_cat_string = \", \".join(el_cat)\n",
    "    content1 = el4.title.pyval + el4.content.pyval\n",
    "    row4 = dict(zip(['id', 'content', 'data', 'category'], [el4.id.pyval, content1, dd, el_cat_string]))\n",
    "    row_s4 = pd.Series(row4)\n",
    "    row_s4.name = el4.id.pyval\n",
    "    df4 = df4.append(row_s4)\n",
    "    #i = i + 1"
   ]
  },
  {
   "cell_type": "code",
   "execution_count": null,
   "metadata": {
    "collapsed": true
   },
   "outputs": [],
   "source": [
    "#Сохраняем датафрейм, чтобы постоянно не считать\n",
    "df4.to_pickle('TMdata/df4.pkl')"
   ]
  },
  {
   "cell_type": "code",
   "execution_count": 9,
   "metadata": {
    "collapsed": true
   },
   "outputs": [],
   "source": [
    "#Загрузка из датафрейма\n",
    "df4 = pd.read_pickle('TMdata/df4.pkl')"
   ]
  },
  {
   "cell_type": "code",
   "execution_count": 10,
   "metadata": {
    "collapsed": false
   },
   "outputs": [
    {
     "data": {
      "text/html": [
       "<div>\n",
       "<table border=\"1\" class=\"dataframe\">\n",
       "  <thead>\n",
       "    <tr style=\"text-align: right;\">\n",
       "      <th></th>\n",
       "      <th>id</th>\n",
       "      <th>content</th>\n",
       "      <th>data</th>\n",
       "      <th>category</th>\n",
       "    </tr>\n",
       "  </thead>\n",
       "  <tbody>\n",
       "    <tr>\n",
       "      <th>7376</th>\n",
       "      <td>7376</td>\n",
       "      <td>Умер Владимир Мефодьевич Башунов\\n      Сегодн...</td>\n",
       "      <td>2005-02-01</td>\n",
       "      <td>Некрологи, Россия</td>\n",
       "    </tr>\n",
       "    <tr>\n",
       "      <th>1349</th>\n",
       "      <td>1349</td>\n",
       "      <td>Россия удивлена заявлениями Премьер-министра У...</td>\n",
       "      <td>2005-11-01</td>\n",
       "      <td>Россия, Украина, Политика</td>\n",
       "    </tr>\n",
       "    <tr>\n",
       "      <th>1353</th>\n",
       "      <td>1353</td>\n",
       "      <td>Впервые зарегистрирован свет самых древних зве...</td>\n",
       "      <td>2005-11-01</td>\n",
       "      <td>Астрономия, Опубликовано</td>\n",
       "    </tr>\n",
       "    <tr>\n",
       "      <th>1359</th>\n",
       "      <td>1359</td>\n",
       "      <td>День народного единства\\n      В России первый...</td>\n",
       "      <td>2005-11-01</td>\n",
       "      <td>Россия, Праздники</td>\n",
       "    </tr>\n",
       "    <tr>\n",
       "      <th>1361</th>\n",
       "      <td>1361</td>\n",
       "      <td>Беспорядки в Париже\\n      Франция\\n      В Па...</td>\n",
       "      <td>2005-11-01</td>\n",
       "      <td>Франция, Гражданские беспорядки</td>\n",
       "    </tr>\n",
       "  </tbody>\n",
       "</table>\n",
       "</div>"
      ],
      "text/plain": [
       "        id                                            content       data  \\\n",
       "7376  7376  Умер Владимир Мефодьевич Башунов\\n      Сегодн... 2005-02-01   \n",
       "1349  1349  Россия удивлена заявлениями Премьер-министра У... 2005-11-01   \n",
       "1353  1353  Впервые зарегистрирован свет самых древних зве... 2005-11-01   \n",
       "1359  1359  День народного единства\\n      В России первый... 2005-11-01   \n",
       "1361  1361  Беспорядки в Париже\\n      Франция\\n      В Па... 2005-11-01   \n",
       "\n",
       "                             category  \n",
       "7376                Некрологи, Россия  \n",
       "1349        Россия, Украина, Политика  \n",
       "1353         Астрономия, Опубликовано  \n",
       "1359                Россия, Праздники  \n",
       "1361  Франция, Гражданские беспорядки  "
      ]
     },
     "execution_count": 10,
     "metadata": {},
     "output_type": "execute_result"
    }
   ],
   "source": [
    "df4.head()"
   ]
  },
  {
   "cell_type": "markdown",
   "metadata": {},
   "source": [
    "<h3>Создаем выборку данных для обучения модели и тестовых данных</h3>"
   ]
  },
  {
   "cell_type": "code",
   "execution_count": 11,
   "metadata": {
    "collapsed": false
   },
   "outputs": [
    {
     "data": {
      "text/plain": [
       "id          6428\n",
       "content     6428\n",
       "data        6428\n",
       "category    6428\n",
       "dtype: int64"
      ]
     },
     "execution_count": 11,
     "metadata": {},
     "output_type": "execute_result"
    }
   ],
   "source": [
    "df4.count()"
   ]
  },
  {
   "cell_type": "code",
   "execution_count": 12,
   "metadata": {
    "collapsed": false
   },
   "outputs": [
    {
     "name": "stdout",
     "output_type": "stream",
     "text": [
      "id          5000\n",
      "content     5000\n",
      "data        5000\n",
      "category    5000\n",
      "dtype: int64\n"
     ]
    }
   ],
   "source": [
    "df4_5500=df4[0:5000]\n",
    "print (df4_5500.count())"
   ]
  },
  {
   "cell_type": "markdown",
   "metadata": {},
   "source": [
    "<h3>Создаем данные для обучения</h3>"
   ]
  },
  {
   "cell_type": "code",
   "execution_count": 13,
   "metadata": {
    "collapsed": true
   },
   "outputs": [],
   "source": [
    "category = df4_5500['category'].tolist()\n",
    "content = df4_5500['content'].tolist()\n",
    "dataT = df4_5500['data'].tolist()"
   ]
  },
  {
   "cell_type": "code",
   "execution_count": 14,
   "metadata": {
    "collapsed": true
   },
   "outputs": [],
   "source": [
    "stop_words = ['и', 'в', 'во', 'не', 'что', 'он', 'на', 'я', 'с', 'со', 'как', 'а', 'то', 'все', 'она', 'так', 'его', \\\n",
    "             'но', 'да', 'ты', 'к', 'у', 'же', 'вы', 'за', 'бы', 'по', 'только', 'ее', 'мне', 'было', 'вот', 'от', \\\n",
    "             'меня', 'еще', 'нет', 'о', 'из', 'ему', 'теперь', 'когда', 'даже', 'ну', 'вдруг', 'ли', 'если', 'уже', \\\n",
    "             'или', 'ни', 'быть', 'был', 'него', 'до', 'вас', 'нибудь', 'опять', 'уж', 'вам', 'ведь', 'там', 'потом', \\\n",
    "             'себя', 'ничего', 'ей', 'может', 'они', 'тут', 'где', 'есть', 'надо', 'ней', 'для', 'мы', 'тебя', 'их', \\\n",
    "             'чем', 'была', 'сам', 'чтоб', 'без', 'будто', 'чего', 'раз', 'тоже', 'себе', 'под', 'будет', 'ж', 'тогда', \\\n",
    "             'кто', 'этот', 'того', 'потому', 'этого', 'какой', 'совсем', 'ним', 'здесь', 'этом', 'один', 'почти', 'мой', \\\n",
    "             'тем', 'чтобы', 'нее', 'сейчас', 'были', 'куда', 'зачем', 'всех', 'никогда', 'можно', 'при', 'наконец', 'два', \\\n",
    "             'об', 'другой', 'хоть', 'после', 'над', 'больше', 'тот', 'через', 'эти', 'нас', 'про', 'всего', 'них', 'какая', \\\n",
    "             'много', 'разве', 'три', 'эту', 'моя', 'впрочем', 'хорошо', 'свою', 'этой', 'перед', 'иногда', 'лучше', 'чуть', \\\n",
    "             'том', 'нельзя', 'такой', 'им', 'более', 'всегда', 'конечно', 'всю', 'между']"
   ]
  },
  {
   "cell_type": "code",
   "execution_count": 15,
   "metadata": {
    "collapsed": false
   },
   "outputs": [
    {
     "data": {
      "text/plain": [
       "151"
      ]
     },
     "execution_count": 15,
     "metadata": {},
     "output_type": "execute_result"
    }
   ],
   "source": [
    "len(stop_words)"
   ]
  },
  {
   "cell_type": "markdown",
   "metadata": {},
   "source": [
    "<h2>Обработка данных</h2>\n",
    "<h3>Подготовка категорий к векторизации</h3>\n",
    "<p>Для векторизации текста и категорий мы будем использовать sklearn CountVectorizer. Названия категорий состоят из нескольких слов, чтобы нам векторизовать категории не по словам а по меткам класса, нам необходимо преобразовать многословные названия категорий, соединв многословную категорию в единое \"слово\" с нижним подчеркиванием.</p>"
   ]
  },
  {
   "cell_type": "code",
   "execution_count": 16,
   "metadata": {
    "collapsed": false
   },
   "outputs": [
    {
     "name": "stdout",
     "output_type": "stream",
     "text": [
      "Wall time: 36 ms\n"
     ]
    }
   ],
   "source": [
    "%%time\n",
    "category2=[]\n",
    "for line in category:\n",
    "    lines = line.strip().split(', ')\n",
    "    lis=\"\"\n",
    "    for li in lines:\n",
    "        cat = \"_\".join(li.split(' '))\n",
    "        lis += cat + \" \"\n",
    "    category2.append(lis)\n",
    "#print (\"\\n\".join(category2))"
   ]
  },
  {
   "cell_type": "markdown",
   "metadata": {},
   "source": [
    "<h3>Векторизация контента и категорий</h3>\n",
    "<p>Векторизуем контент и категории</p>"
   ]
  },
  {
   "cell_type": "code",
   "execution_count": 17,
   "metadata": {
    "collapsed": true
   },
   "outputs": [],
   "source": [
    "vectorizerContent = CountVectorizer (min_df=1, stop_words=stop_words)\n",
    "vectorizerCategory = CountVectorizer (min_df=1)\n",
    "#vectorizerDate = CountVectorizer (min_df=1)"
   ]
  },
  {
   "cell_type": "code",
   "execution_count": 18,
   "metadata": {
    "collapsed": false
   },
   "outputs": [
    {
     "name": "stdout",
     "output_type": "stream",
     "text": [
      "Wall time: 2.26 s\n"
     ]
    }
   ],
   "source": [
    "%%time\n",
    "#X-pwd\n",
    "pwd = vectorizerContent.fit_transform(content)\n",
    "#Xcat - pdt\n",
    "pdt = vectorizerCategory.fit_transform(category2)\n",
    "#Xdat = vectorizerDate.fit_transform(dataT)"
   ]
  },
  {
   "cell_type": "code",
   "execution_count": 19,
   "metadata": {
    "collapsed": true
   },
   "outputs": [],
   "source": [
    "#xx-pwdT\n",
    "pwdT = pwd.toarray().transpose()\n",
    "#xxcat-pdtT\n",
    "pdtT = pdt.toarray().transpose()"
   ]
  },
  {
   "cell_type": "code",
   "execution_count": 20,
   "metadata": {
    "collapsed": false
   },
   "outputs": [
    {
     "name": "stdout",
     "output_type": "stream",
     "text": [
      "Wall time: 232 ms\n"
     ]
    }
   ],
   "source": [
    "%%time\n",
    "selected_feature_names_Cont = np.asarray(vectorizerContent.get_feature_names())\n",
    "selected_feature_names_Cat = np.asarray(vectorizerCategory.get_feature_names())"
   ]
  },
  {
   "cell_type": "markdown",
   "metadata": {},
   "source": [
    "<h3>3.5. Создание матрицы слово тема</h3>\n",
    "<p>На пересечении строки и столбца количество раз когда это слово встретилось в этой теме</p>\n",
    "<h3>Частотные оценки условных вероятностей </h3>\n",
    "<p>Ndw - числов вхождений термина w в документ d</p>\n",
    "<p>Nd - длина документа в терминах</p>\n",
    "<p>Nd = SUM(Ndw)</p>\n",
    "<p>Nw = SUM(Ndw) - число вхождений термина во все документы</p>\n",
    "<p>N - длина коллекции в терминах</p>\n",
    "\n",
    "<p>Pdw=Ndw/N</p>\n",
    "<p>Pd=Nd/N</p>\n",
    "<p>Pw=Nw/N</p>\n",
    "<p>Pwd=Ndw/Nd</p>\n",
    "<p>Pt=Nt/N</p>\n",
    "<p>Pwt=Nwt/Nt</p>\n",
    "<p>Ptd=Ndt/Nd</p>\n",
    "<p>Ptdw=Ndwt/Ndw</p>\n",
    "<p>Ndwt - число троек W D T</p>\n",
    "<p>Ndt=SUM(Ndwt) - число троек в которых термин документа D связан с темой T</p>\n",
    "<p>Nwt=SUM(Ndwt)- число троек в которых термин W связан с темой T</p>\n",
    "<p>Nt=SUM(SUM(Ndwt)) - число троек связанных с темой T</p>\n"
   ]
  },
  {
   "cell_type": "code",
   "execution_count": 21,
   "metadata": {
    "collapsed": false
   },
   "outputs": [
    {
     "name": "stdout",
     "output_type": "stream",
     "text": [
      "Wall time: 13min 56s\n"
     ]
    }
   ],
   "source": [
    "%%time\n",
    "#Pwt - матрица тема документ\n",
    "# Pwt = SUM(Ptd * Pdw)\n",
    "i = 0\n",
    "Pwt = 0\n",
    "for xC in pdt:\n",
    "    Pwt += np.array(xC.toarray())*np.array(pwd[i].toarray().transpose())\n",
    "    #print (i)\n",
    "    i += 1\n",
    "#print (Pwt)"
   ]
  },
  {
   "cell_type": "code",
   "execution_count": null,
   "metadata": {
    "collapsed": false
   },
   "outputs": [],
   "source": [
    "Pwt[11227][226]"
   ]
  },
  {
   "cell_type": "code",
   "execution_count": null,
   "metadata": {
    "collapsed": false
   },
   "outputs": [],
   "source": [
    "#Сохраняем датафрейм, чтобы постоянно не считать\n",
    "#Pwt.to_pickle('TMdata/Pwt.pkl')\n",
    "np.save('TMdata/Pwt.npy', Pwt)"
   ]
  },
  {
   "cell_type": "code",
   "execution_count": null,
   "metadata": {
    "collapsed": false
   },
   "outputs": [],
   "source": [
    "Pwt=np.load('TMdata/Pwt.npy')"
   ]
  },
  {
   "cell_type": "markdown",
   "metadata": {},
   "source": [
    "<h3>Расчет матрицы вероятностей отнесения слова к теме</h3>"
   ]
  },
  {
   "cell_type": "code",
   "execution_count": 22,
   "metadata": {
    "collapsed": false
   },
   "outputs": [
    {
     "name": "stdout",
     "output_type": "stream",
     "text": [
      "[[ 0.00077866  0.          0.001168   ...,  0.00038933  0.00097333  0.        ]\n",
      " [ 0.00042123  0.00021061  0.0014743  ...,  0.00168492  0.00021061\n",
      "   0.00126369]\n",
      " [ 0.          0.          0.         ...,  0.          0.          0.        ]\n",
      " ..., \n",
      " [ 0.          0.          0.         ...,  0.          0.          0.125     ]\n",
      " [ 0.          0.          0.         ...,  0.          0.          0.08333333]\n",
      " [ 0.          0.          0.         ...,  0.          0.16666667  0.        ]]\n",
      "Wall time: 2min 16s\n"
     ]
    }
   ],
   "source": [
    "%%time\n",
    "i1 = 0\n",
    "Phi = np.arange(Pwt.size, dtype=float).reshape(Pwt.sum(axis=1).size, Pwt[0].size)\n",
    "for el4 in Pwt.sum(axis=1):\n",
    "    i2 = 0\n",
    "    for el1 in Pwt[i1]:\n",
    "        Phi[i1][i2]=float(el1)/Pwt[i1].sum()\n",
    "        i2 += 1\n",
    "    i1 += 1\n",
    "print (Phi)"
   ]
  },
  {
   "cell_type": "code",
   "execution_count": 23,
   "metadata": {
    "collapsed": false
   },
   "outputs": [
    {
     "data": {
      "text/plain": [
       "227"
      ]
     },
     "execution_count": 23,
     "metadata": {},
     "output_type": "execute_result"
    }
   ],
   "source": [
    "len(Phi[1])"
   ]
  },
  {
   "cell_type": "code",
   "execution_count": null,
   "metadata": {
    "collapsed": true
   },
   "outputs": [],
   "source": [
    "Phi_T=Phi.copy()"
   ]
  },
  {
   "cell_type": "code",
   "execution_count": null,
   "metadata": {
    "collapsed": true
   },
   "outputs": [],
   "source": [
    "Phi_T=Phi_T.transpose()\n"
   ]
  },
  {
   "cell_type": "code",
   "execution_count": null,
   "metadata": {
    "collapsed": false
   },
   "outputs": [],
   "source": [
    "len(Phi_T[1])\n"
   ]
  },
  {
   "cell_type": "code",
   "execution_count": null,
   "metadata": {
    "collapsed": true
   },
   "outputs": [],
   "source": [
    "df_Cat_Word = pd.DataFrame(columns=('word','probability', 'count'))"
   ]
  },
  {
   "cell_type": "code",
   "execution_count": null,
   "metadata": {
    "collapsed": false
   },
   "outputs": [],
   "source": [
    "%%time\n",
    "i3=0\n",
    "#n=100\n",
    "for k in Phi_T[146]:\n",
    "    #print (u\"Слово %s вероятность %f\" % (selected_feature_names_Cont[i3], k))\n",
    "    row5 = dict(zip(['word', 'probability', 'count'], [selected_feature_names_Cont[i3], k, Pwt[i3][146]]))\n",
    "    row_s5 = pd.Series(row5)\n",
    "    row_s5.name = i3\n",
    "    df_Cat_Word = df_Cat_Word.append(row_s5)\n",
    "    i3+=1\n",
    "    if i3%20000==0:\n",
    "        print i3\n",
    "    #if i3>n:\n",
    "    #    break"
   ]
  },
  {
   "cell_type": "code",
   "execution_count": null,
   "metadata": {
    "collapsed": false
   },
   "outputs": [],
   "source": [
    "df_Cat_Word.head(10)"
   ]
  },
  {
   "cell_type": "code",
   "execution_count": null,
   "metadata": {
    "collapsed": false
   },
   "outputs": [],
   "source": [
    "print \"\\n\".join(selected_feature_names_Cat[146])"
   ]
  },
  {
   "cell_type": "code",
   "execution_count": null,
   "metadata": {
    "collapsed": false
   },
   "outputs": [],
   "source": [
    "df_Cat_Word.sort(['probability', 'count'], ascending=[False, False] )"
   ]
  },
  {
   "cell_type": "markdown",
   "metadata": {},
   "source": [
    "<h2>Вспомогательные переменные</h2>\n",
    "<p>Матрицы категория-документ, документ-слово, слово-категория</p>\n"
   ]
  },
  {
   "cell_type": "code",
   "execution_count": 24,
   "metadata": {
    "collapsed": false
   },
   "outputs": [
    {
     "name": "stdout",
     "output_type": "stream",
     "text": [
      "5000\n"
     ]
    }
   ],
   "source": [
    "#количество документов в коллекции\n",
    "countDoc = len(content)\n",
    "print (countDoc)"
   ]
  },
  {
   "cell_type": "code",
   "execution_count": 25,
   "metadata": {
    "collapsed": false
   },
   "outputs": [
    {
     "name": "stdout",
     "output_type": "stream",
     "text": [
      "Уникальных слов в обучении = 141658\n",
      "Количество категорий = 227\n",
      "Слов в коллекции = 9841605\n",
      "Количество документов = 5000\n"
     ]
    }
   ],
   "source": [
    "print (\"Уникальных слов в обучении = %s\" % len(Pwt.sum(axis=1)))\n",
    "print (\"Количество категорий = %s\" % len(Pwt.sum(axis=0)))\n",
    "print (\"Слов в коллекции = %s\" % Pwt.sum())\n",
    "print (\"Количество документов = %s\" % df4_5500['id'].count())"
   ]
  },
  {
   "cell_type": "markdown",
   "metadata": {},
   "source": [
    "<h2>Оценка качества полученной модели, перплексия</h2>\n"
   ]
  },
  {
   "cell_type": "code",
   "execution_count": 26,
   "metadata": {
    "collapsed": true
   },
   "outputs": [],
   "source": [
    "from math import exp\n",
    "import math"
   ]
  },
  {
   "cell_type": "code",
   "execution_count": 27,
   "metadata": {
    "collapsed": false
   },
   "outputs": [
    {
     "name": "stdout",
     "output_type": "stream",
     "text": [
      "Perp = 0.11184\n",
      "Wall time: 3.55 s\n"
     ]
    }
   ],
   "source": [
    "%%time\n",
    "iterMax =5000\n",
    "i=0\n",
    "#n-длина коллекции в терминах\n",
    "n=len(pwd.toarray()[3])\n",
    "\n",
    "perp=0\n",
    "#ndw — число вхождений термина w в документ d\n",
    "for d in pwd.toarray():\n",
    "    for w in d:\n",
    "        perp += (float(w)/d.sum())*math.log1p(float(w)/pwdT[i].sum())\n",
    "        #print (w/d.sum())*math.log1p(w/xx[i].sum())\n",
    "        #print w/xx[i].sum()\n",
    "        #print (\"%s # %s # %0.5f - %0.5f\" % (w, xx[i].sum(), w/d.sum(), w/xx[i].sum()))\n",
    "        i+=1\n",
    "        if i > iterMax:\n",
    "            break\n",
    "\n",
    "#p(w|d) = p(t | d) p(w | t)\n",
    "#exp(-1/n sumD sumW ndw ln p(w|d))\n",
    "perp1=exp((-1/n)*perp)\n",
    "print (\"Perp = %0.5f\" % (perp1))"
   ]
  },
  {
   "cell_type": "markdown",
   "metadata": {},
   "source": [
    "<h2>Мультиклассовая классификация</h2>\n"
   ]
  },
  {
   "cell_type": "code",
   "execution_count": 28,
   "metadata": {
    "collapsed": true
   },
   "outputs": [],
   "source": [
    "from __future__ import division"
   ]
  },
  {
   "cell_type": "code",
   "execution_count": 29,
   "metadata": {
    "collapsed": true
   },
   "outputs": [],
   "source": [
    "#Количество категорий которые выводим\n",
    "maxCat = 50\n",
    "#Количество документов из тестовой выборки\n",
    "bb=5"
   ]
  },
  {
   "cell_type": "code",
   "execution_count": 30,
   "metadata": {
    "collapsed": false
   },
   "outputs": [
    {
     "name": "stdout",
     "output_type": "stream",
     "text": [
      "True 3 in 5\n",
      "True 0.686100 in maxCat 50\n",
      "False 0.187726 \n",
      "Wall time: 3.58 s\n"
     ]
    }
   ],
   "source": [
    "%%time\n",
    "true1=0\n",
    "false1=0\n",
    "sum1=0\n",
    "true2=[]\n",
    "#test_doc_=random.randint(6000, 7000)\n",
    "\n",
    "a = iter(list(range(bb)))\n",
    "for i in a:\n",
    "    numDStart=5750+i\n",
    "    numDEnd=5750+i+1\n",
    "    newD = vectorizerContent.transform(df4[numDStart:numDEnd]['category'].tolist()).toarray()\n",
    "    #print (newD)\n",
    "    j=0\n",
    "    newDT=newD.transpose()\n",
    "    predictMatrix = []\n",
    "    for inNew in np.nditer(newD):\n",
    "        if inNew > 0:\n",
    "            #print (inNew)\n",
    "            wordInDoc = float(pwdT[j].sum())\n",
    "            k = 0\n",
    "            for inCat in Pwt[j]:\n",
    "                if inCat > 0:\n",
    "                    wordInCat = float(pdtT[k].sum())\n",
    "                    el_data= {}\n",
    "                    el_data[selected_feature_names_Cat[k]] = Phi[j][k]*(1-wordInCat/countDoc)*(1-wordInDoc/countDoc)*newDT[j]/newD.sum()\n",
    "                    predictMatrix.append(dict(el_data))\n",
    "                k += 1\n",
    "        j += 1\n",
    "    dfM = DataFrame(predictMatrix)\n",
    "    del predictMatrix\n",
    "    #print (dfM.head())\n",
    "    \n",
    "    list_test_cat = df4[numDStart:numDEnd]['category'].tolist()\n",
    "    category2_test_=[]\n",
    "    for line in list_test_cat:\n",
    "        lines = line.strip().split(', ')\n",
    "        lis=\"\"\n",
    "        for li in lines:\n",
    "            cat = \"_\".join(li.lower().split(' '))\n",
    "            category2_test_.append(cat)\n",
    "    dfSumM=dfM.sum()\n",
    "    \n",
    "    n = 1\n",
    "    m=0\n",
    "    dfSumM.sort_values(ascending=False, kind='quicksort', na_position='last', inplace=True)\n",
    "    for el in dfSumM.T.iteritems():\n",
    "        sum1+=1\n",
    "        if n < maxCat:\n",
    "            if el[0] in category2_test_:\n",
    "                if n==1:\n",
    "                    true1+=1\n",
    "                #print (\"%s) BINGO %s = %f\" % (n, el[0], el[1]))\n",
    "                m += 1\n",
    "            else:\n",
    "                false1+=1\n",
    "            \n",
    "            n += 1\n",
    "    #print (\", \".join(category2_test_))\n",
    "    true2.append(float((m)/len(category2_test_)))\n",
    "    #print (\"%s из %s\" % (m, len(category2_test_)))\n",
    "        \n",
    "print (\"True %s in %s\" % (true1, bb))\n",
    "print (\"True %f in maxCat %s\" % (sum(true2)/float(len(true2)), maxCat))\n",
    "print (\"False %f \" % (float(false1)/sum1))"
   ]
  },
  {
   "cell_type": "markdown",
   "metadata": {},
   "source": [
    "<h3>Пример предсказания категорий для слова или фразы</h3>"
   ]
  },
  {
   "cell_type": "code",
   "execution_count": 38,
   "metadata": {
    "collapsed": false
   },
   "outputs": [
    {
     "name": "stdout",
     "output_type": "stream",
     "text": [
      "0) футбол = 0.087168\n",
      "1) европа = 0.077873\n",
      "2) россия = 0.071798\n",
      "3) футбол_в_россии = 0.071488\n",
      "4) спорт = 0.046091\n",
      "5) великобритания = 0.032275\n",
      "6) спорт_в_россии = 0.024771\n",
      "7) испания = 0.019255\n",
      "8) рекорды = 0.019126\n",
      "9) африка = 0.019033\n",
      "10) москва = 0.018435\n",
      "11) польша = 0.016534\n",
      "12) швейцария = 0.016524\n",
      "13) санкт = 0.016434\n",
      "14) петербург = 0.016434\n",
      "15) италия = 0.016431\n",
      "16) германия = 0.016231\n",
      "17) украина = 0.016198\n",
      "18) бразилия = 0.013792\n",
      "19) преступность_и_право = 0.012404\n",
      "20) азия = 0.012038\n",
      "21) чемпионат_мира_по_футболу_2014 = 0.011089\n",
      "22) австрия = 0.011034\n",
      "23) нидерланды = 0.011029\n",
      "24) мир = 0.010974\n",
      "25) грузия = 0.010963\n",
      "26) криминал = 0.010663\n",
      "27) общество = 0.009624\n",
      "28) политика = 0.008400\n",
      "29) виктор_янукович = 0.008265\n",
      "30) политика_грузии = 0.008264\n",
      "31) происшествия_в_россии = 0.008254\n",
      "32) франция = 0.008120\n",
      "33) происшествия = 0.007842\n",
      "34) политика_россии = 0.007541\n",
      "35) сша = 0.006938\n",
      "36) футбол_в_бразилии = 0.005548\n",
      "37) ссср = 0.005516\n",
      "38) канада = 0.005506\n",
      "39) турция = 0.005491\n",
      "40) награды_и_премии = 0.005475\n",
      "41) япония = 0.005471\n",
      "42) лос = 0.005461\n",
      "43) анджелес = 0.005461\n",
      "44) европейский_союз = 0.005442\n",
      "45) дмитрий_медведев = 0.005414\n",
      "46) забавное = 0.005374\n",
      "47) наука_и_технологии = 0.005254\n",
      "48) каталония = 0.002773\n",
      "49) донецк = 0.002771\n",
      "50) сочи = 0.002767\n",
      "51) мексика = 0.002760\n",
      "52) швеция = 0.002755\n",
      "53) австралия = 0.002754\n",
      "54) новосибирск = 0.002753\n",
      "55) русская_википедия = 0.002751\n",
      "56) иран = 0.002751\n",
      "57) рейтинги = 0.002746\n",
      "58) южная_корея = 0.002746\n",
      "59) йорк = 0.002741\n",
      "60) нью = 0.002741\n",
      "61) рунет = 0.002735\n",
      "62) википедия = 0.002735\n",
      "63) израиль = 0.002721\n",
      "64) культура_россии = 0.002715\n",
      "65) компьютерные_технологии = 0.002697\n",
      "66) опубликовано = 0.002681\n",
      "67) политика_сша = 0.002650\n",
      "68) общество_в_россии = 0.002634\n",
      "69) владимир_путин = 0.002633\n",
      "70) интернет = 0.002624\n",
      "71) культура = 0.002607\n",
      "72) северная_америка = 0.002560\n",
      "73) экономика = 0.002476\n",
      "Wall time: 190 ms\n"
     ]
    }
   ],
   "source": [
    "%%time\n",
    "\n",
    "newWord = vectorizerContent.transform([u\"футбол\"]).toarray()\n",
    "#print (newWord)\n",
    "predictMatrixW = []\n",
    "j=0\n",
    "for inNew in np.nditer(newWord):\n",
    "    if inNew > 0:\n",
    "        wordInDoc = float(pwdT[j].sum())\n",
    "        k = 0\n",
    "        for inCat in Pwt[j]:\n",
    "            if inCat > 0:\n",
    "                wordInCat = float(pdtT[k].sum())\n",
    "                el_data= {}\n",
    "                el_data[selected_feature_names_Cat[k]] = Phi[j][k]*(1-wordInCat/countDoc)*(1-wordInDoc/countDoc)\n",
    "                predictMatrixW.append(dict(el_data))\n",
    "            k +=1\n",
    "    j+=1\n",
    "dfMW = DataFrame(predictMatrixW)\n",
    "\n",
    "#print (dfM.sum())\n",
    "dfSumMW=dfMW.sum()\n",
    "i =0\n",
    "dfSumMW.sort_values(ascending=False, kind='quicksort', na_position='last', inplace=True)\n",
    "for el in dfSumMW.T.iteritems():\n",
    "    print (\"%s) %s = %f\" % (i, el[0], el[1]))\n",
    "    #if i < 21:\n",
    "    #    print (\"%s) %s = %f\" % (i, el[0], el[1]))\n",
    "    i += 1"
   ]
  },
  {
   "cell_type": "code",
   "execution_count": 32,
   "metadata": {
    "collapsed": true
   },
   "outputs": [],
   "source": [
    "%matplotlib inline\n",
    "import matplotlib.pyplot as plt\n",
    "from matplotlib import rcParams"
   ]
  },
  {
   "cell_type": "code",
   "execution_count": null,
   "metadata": {
    "collapsed": true
   },
   "outputs": [],
   "source": [
    "#Сохраняем датафрейм, чтобы постоянно не считать\n",
    "dfSumMW.to_pickle('TMdata/dfSumMW.pkl')"
   ]
  },
  {
   "cell_type": "code",
   "execution_count": null,
   "metadata": {
    "collapsed": true
   },
   "outputs": [],
   "source": [
    "#Загрузка из датафрейма\n",
    "dfSumMW = pd.read_pickle('TMdata/dfSumMW.pkl')"
   ]
  },
  {
   "cell_type": "code",
   "execution_count": 39,
   "metadata": {
    "collapsed": false
   },
   "outputs": [],
   "source": [
    "dfV=pd.DataFrame(dfSumMW, columns=['Probability'])"
   ]
  },
  {
   "cell_type": "code",
   "execution_count": 40,
   "metadata": {
    "collapsed": false
   },
   "outputs": [
    {
     "data": {
      "text/html": [
       "<div>\n",
       "<table border=\"1\" class=\"dataframe\">\n",
       "  <thead>\n",
       "    <tr style=\"text-align: right;\">\n",
       "      <th></th>\n",
       "      <th>Probability</th>\n",
       "    </tr>\n",
       "  </thead>\n",
       "  <tbody>\n",
       "    <tr>\n",
       "      <th>футбол</th>\n",
       "      <td>0.087168</td>\n",
       "    </tr>\n",
       "    <tr>\n",
       "      <th>европа</th>\n",
       "      <td>0.077873</td>\n",
       "    </tr>\n",
       "    <tr>\n",
       "      <th>россия</th>\n",
       "      <td>0.071798</td>\n",
       "    </tr>\n",
       "    <tr>\n",
       "      <th>футбол_в_россии</th>\n",
       "      <td>0.071488</td>\n",
       "    </tr>\n",
       "    <tr>\n",
       "      <th>спорт</th>\n",
       "      <td>0.046091</td>\n",
       "    </tr>\n",
       "  </tbody>\n",
       "</table>\n",
       "</div>"
      ],
      "text/plain": [
       "                 Probability\n",
       "футбол              0.087168\n",
       "европа              0.077873\n",
       "россия              0.071798\n",
       "футбол_в_россии     0.071488\n",
       "спорт               0.046091"
      ]
     },
     "execution_count": 40,
     "metadata": {},
     "output_type": "execute_result"
    }
   ],
   "source": [
    "dfV.head()"
   ]
  },
  {
   "cell_type": "code",
   "execution_count": 41,
   "metadata": {
    "collapsed": false
   },
   "outputs": [
    {
     "data": {
      "image/png": "[encoded data removed]",
      "text/plain": [
       "<matplotlib.figure.Figure at 0x288ca080>"
      ]
     },
     "metadata": {},
     "output_type": "display_data"
    }
   ],
   "source": [
    "dfV2=dfV[0:10]\n",
    "rcParams['font.family'] = 'verdana'\n",
    "#xlabel(u\"Категории\")\n",
    "dfV2.plot.bar(figsize=(20, 10), alpha=0.5, color='0', label=u'Кат', fontsize='18');"
   ]
  },
  {
   "cell_type": "markdown",
   "metadata": {},
   "source": [
    "<h2>Регуляризация</h2>"
   ]
  },
  {
   "cell_type": "code",
   "execution_count": null,
   "metadata": {
    "collapsed": true
   },
   "outputs": [],
   "source": [
    "Pwt1=Pwt.copy()"
   ]
  },
  {
   "cell_type": "code",
   "execution_count": null,
   "metadata": {
    "collapsed": false
   },
   "outputs": [],
   "source": [
    "Pwt1[Pwt1<2]=0"
   ]
  },
  {
   "cell_type": "code",
   "execution_count": null,
   "metadata": {
    "collapsed": false
   },
   "outputs": [],
   "source": [
    "print Pwt1"
   ]
  },
  {
   "cell_type": "code",
   "execution_count": null,
   "metadata": {
    "collapsed": false
   },
   "outputs": [],
   "source": [
    "%%time\n",
    "i1 = 0\n",
    "Phi1 = np.arange(Pwt1.size, dtype=float).reshape(Pwt1.sum(axis=1).size, Pwt1[0].size)\n",
    "for el4 in Pwt1.sum(axis=1):\n",
    "    i2 = 0\n",
    "    for el1 in Pwt1[i1]:\n",
    "        Phi1[i1][i2]=float(el1)/Pwt1[i1].sum()\n",
    "        i2 += 1\n",
    "    i1 += 1\n",
    "print (Phi1)"
   ]
  },
  {
   "cell_type": "markdown",
   "metadata": {},
   "source": [
    "<h3>Результат регуляризации</h3>"
   ]
  },
  {
   "cell_type": "code",
   "execution_count": null,
   "metadata": {
    "collapsed": false
   },
   "outputs": [],
   "source": [
    "%%time\n",
    "true1=0\n",
    "false1=0\n",
    "sum1=0\n",
    "true2=[]\n",
    "#test_doc_=random.randint(6000, 7000)\n",
    "\n",
    "a = iter(list(range(bb)))\n",
    "for i in a:\n",
    "    numDStart=5750+i\n",
    "    numDEnd=5750+i+1\n",
    "    newD = vectorizerContent.transform(df4[numDStart:numDEnd]['category'].tolist()).toarray()\n",
    "    #print (newD)\n",
    "    j=0\n",
    "    newDT=newD.transpose()\n",
    "    predictMatrix = []\n",
    "    for inNew in np.nditer(newD):\n",
    "        if inNew > 0:\n",
    "            #print (inNew)\n",
    "            wordInDoc = float(pwdT[j].sum())\n",
    "            k = 0\n",
    "            for inCat in Pwt[j]:\n",
    "                if inCat > 0:\n",
    "                    wordInCat = float(pdtT[k].sum())\n",
    "                    el_data= {}\n",
    "                    el_data[selected_feature_names_Cat[k]] = Phi1[j][k]*(1-wordInCat/countDoc)*(1-wordInDoc/countDoc)*newDT[j]/newD.sum()\n",
    "                    predictMatrix.append(dict(el_data))\n",
    "                k += 1\n",
    "        j += 1\n",
    "    dfM = DataFrame(predictMatrix)\n",
    "    del predictMatrix\n",
    "    #print (dfM.head())\n",
    "    \n",
    "    list_test_cat = df4[numDStart:numDEnd]['category'].tolist()\n",
    "    category2_test_=[]\n",
    "    for line in list_test_cat:\n",
    "        lines = line.strip().split(', ')\n",
    "        lis=\"\"\n",
    "        for li in lines:\n",
    "            cat = \"_\".join(li.lower().split(' '))\n",
    "            category2_test_.append(cat)\n",
    "    dfSumM=dfM.sum()\n",
    "    \n",
    "    n = 1\n",
    "    m=0\n",
    "    dfSumM.sort_values(ascending=False, kind='quicksort', na_position='last', inplace=True)\n",
    "    for el in dfSumM.T.iteritems():\n",
    "        sum1+=1\n",
    "        if n < maxCat:\n",
    "            if el[0] in category2_test_:\n",
    "                if n==1:\n",
    "                    true1+=1\n",
    "                #print (\"%s) BINGO %s = %f\" % (n, el[0], el[1]))\n",
    "                m += 1\n",
    "            else:\n",
    "                false1+=1\n",
    "            \n",
    "            n += 1\n",
    "    #print (\", \".join(category2_test_))\n",
    "    true2.append(float((m)/len(category2_test_)))\n",
    "    #print (\"%s из %s\" % (m, len(category2_test_)))\n",
    "        \n",
    "print (\"True %s in %s\" % (true1, bb))\n",
    "print (\"True %f in maxCat %s\" % (sum(true2)/float(len(true2)), maxCat))\n",
    "print (\"False %f \" % (float(false1)/sum1))"
   ]
  },
  {
   "cell_type": "code",
   "execution_count": null,
   "metadata": {
    "collapsed": false
   },
   "outputs": [],
   "source": [
    "%%time\n",
    "\n",
    "newWord = vectorizerContent.transform([u\"выборы призедента россии\"]).toarray()\n",
    "#print (newWord)\n",
    "predictMatrixW = []\n",
    "j=0\n",
    "for inNew in np.nditer(newWord):\n",
    "    if inNew > 0:\n",
    "        wordInDoc = float(pwdT[j].sum())\n",
    "        k = 0\n",
    "        for inCat in Pwt[j]:\n",
    "            if inCat > 0:\n",
    "                wordInCat = float(pdtT[k].sum())\n",
    "                el_data= {}\n",
    "                el_data[selected_feature_names_Cat[k]] = Phi1[j][k]*(1-wordInCat/countDoc)*(1-wordInDoc/countDoc)\n",
    "                predictMatrixW.append(dict(el_data))\n",
    "            k +=1\n",
    "    j+=1\n",
    "dfMW = DataFrame(predictMatrixW)\n",
    "\n",
    "#print (dfM.sum())\n",
    "dfSumMW=dfMW.sum()\n",
    "i =0\n",
    "dfSumMW.sort_values(ascending=False, kind='quicksort', na_position='last', inplace=True)\n",
    "for el in dfSumMW.T.iteritems():\n",
    "    print (\"%s) %s = %f\" % (i, el[0], el[1]))\n",
    "    #if i < 21:\n",
    "    #    print (\"%s) %s = %f\" % (i, el[0], el[1]))\n",
    "    i += 1"
   ]
  },
  {
   "cell_type": "code",
   "execution_count": null,
   "metadata": {
    "collapsed": true
   },
   "outputs": [],
   "source": []
  }
 ],
 "metadata": {
  "kernelspec": {
   "display_name": "Python 2",
   "language": "python",
   "name": "python2"
  },
  "language_info": {
   "codemirror_mode": {
    "name": "ipython",
    "version": 2
   },
   "file_extension": ".py",
   "mimetype": "text/x-python",
   "name": "python",
   "nbconvert_exporter": "python",
   "pygments_lexer": "ipython2",
   "version": "2.7.11"
  }
 },
 "nbformat": 4,
 "nbformat_minor": 0
}
